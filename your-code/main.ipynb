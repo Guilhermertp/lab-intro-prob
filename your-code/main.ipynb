{
 "cells": [
  {
   "cell_type": "markdown",
   "metadata": {},
   "source": [
    "# Introduction To Probability\n",
    "## Challenge 1\n",
    "\n",
    "A and B are events of a probability space with $(\\omega, \\sigma, P)$ such that $P(A) = 0.3$, $P(B) = 0.6$ and $P(A \\cap B) = 0.1$\n",
    "\n",
    "Which of the following statements are false?\n",
    "* $P(A \\cup B) = 0.6$\n",
    "* $P(A \\cap B^{C}) = 0.2$\n",
    "* $P(A \\cap (B \\cup B^{C})) = 0.4$\n",
    "* $P(A^{C} \\cap B^{C}) = 0.3$\n",
    "* $P((A \\cap B)^{C}) = 0.9$"
   ]
  },
  {
   "cell_type": "code",
   "execution_count": null,
   "metadata": {},
   "outputs": [],
   "source": [
    "\"\"\"\n",
    "your solution here\n",
    "\n",
    "𝑃(𝐴∪𝐵) = P(A) + P(B) - 𝑃(𝐴∩𝐵)\n",
    "𝑃(𝐴∪𝐵) = 0.3 + 0.6 - 0.1 = 0.8\n",
    "\n",
    "P(A ∩ B') = P(A) + P(B') - 𝑃(𝐴∪𝐵') = 1- 𝑃(𝐴∩𝐵) = 1-0.1 = 0.9\n",
    "\n",
    "\n",
    "P(A ∩ (B∪B')) = P(A) = 0.3\n",
    "\n",
    "P(A' ∩ B') = 𝑃(𝐴∪𝐵)' = 1- 0.8 = 0.2\n",
    "\n",
    "P(A ∩ B)' = 𝑃(𝐴'∪𝐵') = 1- 𝑃(𝐴∩𝐵) = 1-0.1 = 0.9\n",
    "\"\"\""
   ]
  },
  {
   "cell_type": "markdown",
   "metadata": {},
   "source": [
    "## Challenge 2\n",
    "There is a box with 10 white balls, 12 red balls and 8 black balls. Calculate the probability of:\n",
    "* Taking a white ball out.\n",
    "* Taking a white ball out after taking a black ball out.\n",
    "* Taking a red ball out after taking a black and a red ball out.\n",
    "* Taking a red ball out after taking a black and a red ball out with reposition.\n",
    "\n",
    "**Hint**: Reposition means putting back the ball into the box after taking it out."
   ]
  },
  {
   "cell_type": "code",
   "execution_count": null,
   "metadata": {},
   "outputs": [],
   "source": [
    "\"\"\"\n",
    "your solution here\n",
    "Total balls = 30\n",
    "Nº white balls = 10\n",
    "Nº red balls = 12\n",
    "Nº black balls = 8\n",
    "\n",
    "1.Taking a white ball out: 1/3\n",
    "\n",
    "2.Taking a white ball out after taking a black ball out: 10/29\n",
    "\n",
    "3.Taking a red ball out after taking a black and a red ball out: 11/28\n",
    "\n",
    "4.Taking a red ball out after taking a black and a red ball out with reposition: 12/30\n",
    "\"\"\""
   ]
  },
  {
   "cell_type": "markdown",
   "metadata": {},
   "source": [
    "## Challenge 3\n",
    "\n",
    "You are planning to go on a picnic today but the morning is cloudy. You hate rain so you don't know whether to go out or stay home! To help you make a decision, you gather the following data about rainy days:\n",
    "\n",
    "* Knowing that it is a rainy day, the probability of cloudy is 50%!\n",
    "* The probability of any day (rainy or not) starting off cloudy is 40%. \n",
    "* This month is usually dry so only 3 of 30 days (10%) tend to be rainy. \n",
    "\n",
    "What is the probability of rain, given the day started cloudy?"
   ]
  },
  {
   "cell_type": "code",
   "execution_count": null,
   "metadata": {},
   "outputs": [],
   "source": [
    "\"\"\"\n",
    "your solution here\n",
    "(Bayes' theorem)\n",
    "********************\n",
    "Given info :\n",
    "\n",
    "Knowing that it is a rainy day, the probability of cloudy is 50% -> (C|R) = P(R ∩ C) / P(R) = 0.5\n",
    "\n",
    "The probability of any day (rainy or not) starting off cloudy is 40%. -> P(R ∪ C) = 0.4\n",
    "\n",
    "This month is usually dry so only 3 of 30 days (10%) tend to be rainy. -> P(R) = 0.1\n",
    "***********************************\n",
    "Problem solving:\n",
    "P(R ∩ C) = (C|R) * P(R) = 0.5 * 0.1 \n",
    "P(R ∩ C) =0.05\n",
    "\n",
    "P(R ∪ C) = P(R) + P(C) - P(R ∩ C) -> 0.4 = 0.1 + P(C) - 0.05\n",
    "\n",
    "P(C) = 0.4 - 0.1 + 0.05\n",
    "P(C) = 0.35\n",
    "\n",
    "(R|C) = P(R ∩ C) / P(C) = ?\n",
    "\n",
    "(R|C) = 0.05/0.35 ≈ 0.14\n",
    "\"\"\""
   ]
  },
  {
   "cell_type": "markdown",
   "metadata": {},
   "source": [
    "## Challenge 4\n",
    "\n",
    "One thousand people were asked through a telephone survey whether they thought more street lighting is needed at night or not.\n",
    "\n",
    "Out of the 480 men that answered the survey, 324 said yes and 156 said no. On the other hand, out of the 520 women that answered, 351 said yes and 169 said no. \n",
    "\n",
    "We wonder if men and women have a different opinions about the street lighting matter. Is gender relevant or irrelevant to the question?\n",
    "\n",
    "Consider the following events:\n",
    "- The answer is yes, so the person that answered thinks that more street lighting is needed.\n",
    "- The person who answered is a man.\n",
    "\n",
    "We want to know if these events are independent, that is, if the fact of wanting more light depends on whether one is male or female. Are these events independent or not?\n",
    "\n",
    "**Hint**: To clearly compare the answers by gender, it is best to place the data in a table."
   ]
  },
  {
   "cell_type": "code",
   "execution_count": 11,
   "metadata": {},
   "outputs": [
    {
     "data": {
      "text/html": [
       "<div>\n",
       "<style scoped>\n",
       "    .dataframe tbody tr th:only-of-type {\n",
       "        vertical-align: middle;\n",
       "    }\n",
       "\n",
       "    .dataframe tbody tr th {\n",
       "        vertical-align: top;\n",
       "    }\n",
       "\n",
       "    .dataframe thead th {\n",
       "        text-align: right;\n",
       "    }\n",
       "</style>\n",
       "<table border=\"1\" class=\"dataframe\">\n",
       "  <thead>\n",
       "    <tr style=\"text-align: right;\">\n",
       "      <th></th>\n",
       "      <th>Decision</th>\n",
       "      <th>man</th>\n",
       "      <th>women</th>\n",
       "      <th>Total</th>\n",
       "      <th>P(Yes ∩ Man)</th>\n",
       "      <th>P(Yes ∩ Woman)</th>\n",
       "    </tr>\n",
       "  </thead>\n",
       "  <tbody>\n",
       "    <tr>\n",
       "      <th>0</th>\n",
       "      <td>yes</td>\n",
       "      <td>324</td>\n",
       "      <td>351</td>\n",
       "      <td>675</td>\n",
       "      <td>0.675</td>\n",
       "      <td>0.675</td>\n",
       "    </tr>\n",
       "    <tr>\n",
       "      <th>1</th>\n",
       "      <td>no</td>\n",
       "      <td>156</td>\n",
       "      <td>169</td>\n",
       "      <td>325</td>\n",
       "      <td></td>\n",
       "      <td></td>\n",
       "    </tr>\n",
       "  </tbody>\n",
       "</table>\n",
       "</div>"
      ],
      "text/plain": [
       "  Decision  man  women  Total P(Yes ∩ Man) P(Yes ∩ Woman)\n",
       "0      yes  324    351    675        0.675          0.675\n",
       "1       no  156    169    325                            "
      ]
     },
     "execution_count": 11,
     "metadata": {},
     "output_type": "execute_result"
    }
   ],
   "source": [
    "# your code here\n",
    "import pandas as pd\n",
    "\n",
    "street_light = pd.DataFrame({'Decision':['yes','no'],'man':[324,156],'women':[351,169],'Total':[675,325],'P(Yes ∩ Man)':[0.675,''],'P(Yes ∩ Woman)':[0.675,'']})\n",
    "\n",
    "street_light"
   ]
  },
  {
   "cell_type": "code",
   "execution_count": null,
   "metadata": {},
   "outputs": [],
   "source": [
    "\"\"\"\n",
    "your solution here\n",
    "\n",
    "In order for 2 events A and B to be independent, at least one of the following statements must be true:\n",
    "\n",
    "P(A)*P(B) = P(A ∩ B)\n",
    "\n",
    "P(A|B) = P(A)\n",
    "\n",
    "P(B|A) = P(B)\n",
    "\n",
    "P(Man|Yes)= P(Man ∩ Yes)/ P(Man) = 0.675/ (480/(480+520))\n",
    "\"\"\""
   ]
  },
  {
   "cell_type": "code",
   "execution_count": 12,
   "metadata": {},
   "outputs": [
    {
     "data": {
      "text/plain": [
       "1.4062500000000002"
      ]
     },
     "execution_count": 12,
     "metadata": {},
     "output_type": "execute_result"
    }
   ],
   "source": [
    "ver isto melhor!!!\n",
    "P(Men N Yes) = P(Men) * P(Yes)\n",
    "So does P(324/1000) = P(480/1000) * P((324+351)/1000)\n",
    "0.324 = 0.48 * 0.027\n",
    "0.324 = 0.324 Therefore events are independent and anserwing Yes/No is not affected by Gender"
   ]
  },
  {
   "cell_type": "code",
   "execution_count": null,
   "metadata": {},
   "outputs": [],
   "source": []
  }
 ],
 "metadata": {
  "kernelspec": {
   "display_name": "Python 3",
   "language": "python",
   "name": "python3"
  },
  "language_info": {
   "codemirror_mode": {
    "name": "ipython",
    "version": 3
   },
   "file_extension": ".py",
   "mimetype": "text/x-python",
   "name": "python",
   "nbconvert_exporter": "python",
   "pygments_lexer": "ipython3",
   "version": "3.8.5"
  }
 },
 "nbformat": 4,
 "nbformat_minor": 2
}
